{
 "cells": [
  {
   "cell_type": "markdown",
   "id": "fcad2527",
   "metadata": {},
   "source": [
    "Basierd auf den folgenden Quellen [1]\n",
    "\n",
    "[1][https://github.com/jakevdp/PythonDataScienceHandbook/blob/master/notebooks/05.06-Linear-Regression.ipynb]"
   ]
  },
  {
   "cell_type": "markdown",
   "id": "32aa3714",
   "metadata": {},
   "source": [
    "### K-fache Cross-Validierung\n",
    "\n",
    "Um Overfitting zu erkennen gibt es die Strategie der Cross-Validierung. Damit soll eine möglichst hohe Generalisierung sichergestellt werden. Jede Art von Wissen über die Daten kann schon bei der Selektion von sogenannten \"Hyperparametern\" (externe Konfigurationsvariablen) die Modellierung beeinflussen. Um diesen Effekt zu minimiern wird das Trainings-Set unterteilt und ein Validierungs-Set erzeugt. Mit dem Validierungs-Set erfolgt eine Vorbewertung des Modells und somit der Hyperparameter. Nach der Modellierung wird das Modell wie gehabt mit den Test-Daten überprüft. \n",
    "\n",
    "Durch die weitere Unterteilung senkt sich aber wiederum die Anzahl der verfügbaren Stichproben und das Modell könnte an Aussagekraft verlieren. Die Auswahl der Daten hätte einen zufälligen Einfluss auf das Modell. \n",
    "\n",
    "Bei der k-fachen Cross-Validierung wird dieses Problem umgangen, indem die Trainingsdaten in k kleinere Datensätze unterteilt werden. Anschließend werden k Schritte durchlaufen, welche immer den gleichen Ablauf haben: Ein Modell wird anhand von k-1 Trainingdatensätzen erstellt und mit dem übrigen Datensatz validiert (seine Performance bestimmt). Der Durchschnitt aller k Validierungen ergibt die Gesamtperformance. \n",
    "\n",
    "<img src=\"k-fache_Cross_Validierung.png\">"
   ]
  },
  {
   "cell_type": "code",
   "execution_count": null,
   "id": "b742fd3d",
   "metadata": {},
   "outputs": [],
   "source": [
    "from sklearn.datasets import load_diabetes #Laden von Beispieldaten\n",
    "from sklearn.linear_model import LassoCV\n",
    "from sklearn.model_selection import train_test_split\n",
    "\n",
    "X, y = load_diabetes(return_X_y=True, as_frame=True)\n",
    "X_train, X_test, y_train, y_test = train_test_split(X, y, test_size=0.4, random_state=0)"
   ]
  },
  {
   "cell_type": "code",
   "execution_count": null,
   "id": "3e29c35a",
   "metadata": {},
   "outputs": [],
   "source": [
    "number_of_cross_validations = 5\n",
    "alpha_values = [0.01, 0.02, 0.03, 0.05, 0.07, 0.08, 0.1, 0.2, 0.3, 0.4, 0.5, 0.6, 0.7, 0.8]\n",
    "reg = LassoCV(alphas=alpha_values,cv=number_of_cross_validations, random_state=0).fit(X_train, y_train)\n",
    "print('gewähltes Alpha   '+str(reg.alpha_))\n",
    "print('R2 Trainingsdaten '+str(reg.score(X_train, y_train)))\n",
    "print('R2 Testdaten      '+str(reg.score(X_test, y_test)))"
   ]
  },
  {
   "cell_type": "markdown",
   "id": "34be4671",
   "metadata": {},
   "source": [
    "### Lasso\n",
    "\n",
    "$$\\min_{w} { \\frac{1}{2n_{\\text{samples}}} ||X w - y||_2 ^ 2 + \\alpha ||w||_1}$$\n",
    "\n",
    "Die Schwierigkeit besteht darin Alpha so zu optimieren, dass das Modell die zugrunde liegenden Daten mit optimalem \"Grad der Generalisierung\" und Varianz wiedergibt.\n",
    "Als Kriterium kommen der resultierende MSE-Wert (mean squared error) oder sogenannte Informationskriterien wie das Akaike information criterion (AIC) oder das Bayes information criterion (BIC) in Frage. \n",
    "\n",
    "Im Folgenden Beispiel wird Alpha anhand des MSE-Werts optimiert. Mit definierten Werten von Alpha werden Modelle bestimmt. Das beste Modell wird mit k-facher Cross-Validierung ausgewählt."
   ]
  },
  {
   "cell_type": "code",
   "execution_count": 1,
   "id": "7d492f4c",
   "metadata": {},
   "outputs": [],
   "source": [
    "%matplotlib inline\n",
    "import matplotlib.pyplot as plt\n",
    "import numpy as np"
   ]
  },
  {
   "cell_type": "markdown",
   "id": "d7447897",
   "metadata": {},
   "source": [
    "* np.linspace(x,y,z): Erstellt einen Vektor mit einer Länge von z. Der Wert x wird um das Inkrement von $\\frac{1}{z-1}$ bis der Wert y erreicht wird.\n",
    "* np.sin(x): Sinusfunktion, in Bogenmaß\n",
    "* np.random.rand(z): Erstellt einen normalverteilten Zufallsvektor mit einer Länge von 50\n",
    "* plt.errorbar(x,y, yerr=dy, fmt='.k'): x: X-Werte, y: Y-Werte, yerr=Skalierung der Länge der Fehlerbalken, fmt: Format der Punkte (hier als Punkt)"
   ]
  },
  {
   "cell_type": "code",
   "execution_count": 2,
   "id": "7c7fe8f6",
   "metadata": {},
   "outputs": [
    {
     "data": {
      "text/plain": [
       "<ErrorbarContainer object of 3 artists>"
      ]
     },
     "execution_count": 2,
     "metadata": {},
     "output_type": "execute_result"
    },
    {
     "data": {
      "image/png": "[encoded data removed]",
      "text/plain": [
       "<Figure size 640x480 with 1 Axes>"
      ]
     },
     "metadata": {},
     "output_type": "display_data"
    }
   ],
   "source": [
    "x = np.linspace(0, 10, 50)\n",
    "dy = 0.8\n",
    "y = np.sin(x) + dy * np.random.randn(50)\n",
    "\n",
    "plt.errorbar(x, y, yerr=dy, fmt='.')\n"
   ]
  },
  {
   "cell_type": "code",
   "execution_count": 3,
   "id": "909e2932",
   "metadata": {},
   "outputs": [],
   "source": [
    "def user_defined_funktion(point_density = 1000):\n",
    "    x = np.linspace(0, 10, point_density)\n",
    "\n",
    "    y = np.sin(x) + np.random.randn(point_density)\n",
    "    noise = 0.2\n",
    "    y = np.sin(x) + noise * np.random.randn(point_density)\n",
    "\n",
    "    return x, y, noised_y"
   ]
  },
  {
   "cell_type": "code",
   "execution_count": 4,
   "id": "7f2d3764",
   "metadata": {},
   "outputs": [
    {
     "ename": "NameError",
     "evalue": "name 'noised_y' is not defined",
     "output_type": "error",
     "traceback": [
      "\u001b[1;31m---------------------------------------------------------------------------\u001b[0m",
      "\u001b[1;31mNameError\u001b[0m                                 Traceback (most recent call last)",
      "Cell \u001b[1;32mIn[4], line 1\u001b[0m\n\u001b[1;32m----> 1\u001b[0m x, y, noised_y \u001b[38;5;241m=\u001b[39m \u001b[43muser_defined_funktion\u001b[49m\u001b[43m(\u001b[49m\u001b[38;5;241;43m1000\u001b[39;49m\u001b[43m)\u001b[49m\n\u001b[0;32m      2\u001b[0m plt\u001b[38;5;241m.\u001b[39mplot(x,y, c\u001b[38;5;241m=\u001b[39m\u001b[38;5;124m'\u001b[39m\u001b[38;5;124mr\u001b[39m\u001b[38;5;124m'\u001b[39m)\n\u001b[0;32m      3\u001b[0m plt\u001b[38;5;241m.\u001b[39mscatter(x,noised_y)\n",
      "Cell \u001b[1;32mIn[3], line 8\u001b[0m, in \u001b[0;36muser_defined_funktion\u001b[1;34m(point_density)\u001b[0m\n\u001b[0;32m      5\u001b[0m noise \u001b[38;5;241m=\u001b[39m \u001b[38;5;241m0.2\u001b[39m\n\u001b[0;32m      6\u001b[0m y \u001b[38;5;241m=\u001b[39m np\u001b[38;5;241m.\u001b[39msin(x) \u001b[38;5;241m+\u001b[39m noise \u001b[38;5;241m*\u001b[39m np\u001b[38;5;241m.\u001b[39mrandom\u001b[38;5;241m.\u001b[39mrandn(point_density)\n\u001b[1;32m----> 8\u001b[0m \u001b[38;5;28;01mreturn\u001b[39;00m x, y, \u001b[43mnoised_y\u001b[49m\n",
      "\u001b[1;31mNameError\u001b[0m: name 'noised_y' is not defined"
     ]
    }
   ],
   "source": [
    "x, y, noised_y = user_defined_funktion(1000)\n",
    "plt.plot(x,y, c='r')\n",
    "plt.scatter(x,noised_y)"
   ]
  },
  {
   "cell_type": "markdown",
   "id": "380966f9",
   "metadata": {},
   "source": [
    "Einstellen eines lineares Modells aus aus der sklearn-Bibliotek\n",
    "fit_intercept=True: Modell fittet eine Y-Achsen-Abschnitt"
   ]
  },
  {
   "cell_type": "markdown",
   "id": "deb40d40",
   "metadata": {},
   "source": [
    "Modell benötigt eine 50x1-Matrix, x ist jedoch eine 50-Vektor -> Anlegen einer neuen Dimension durch x[:, np.newaxis]"
   ]
  },
  {
   "cell_type": "code",
   "execution_count": null,
   "id": "65fad0bd",
   "metadata": {},
   "outputs": [],
   "source": [
    "print(x.shape)\n",
    "print(x[:, np.newaxis].shape)"
   ]
  },
  {
   "cell_type": "code",
   "execution_count": null,
   "id": "bf80d747",
   "metadata": {
    "scrolled": true
   },
   "outputs": [],
   "source": [
    "from sklearn.linear_model import LinearRegression\n",
    "\n",
    "model = LinearRegression(fit_intercept=True)\n",
    "model.fit(x[:, np.newaxis], y)"
   ]
  },
  {
   "cell_type": "code",
   "execution_count": null,
   "id": "28ab88b5",
   "metadata": {
    "scrolled": true
   },
   "outputs": [],
   "source": [
    "xfit = np.linspace(0, 10, 1000)\n",
    "yfit = model.predict(xfit[:, np.newaxis])\n",
    "\n",
    "plt.scatter(x, y)\n",
    "plt.plot(xfit, yfit)"
   ]
  },
  {
   "cell_type": "markdown",
   "id": "7e190d3b",
   "metadata": {},
   "source": [
    "Ridge Regression ($L_2$-Regularization)"
   ]
  },
  {
   "cell_type": "code",
   "execution_count": 5,
   "id": "9c513cfb",
   "metadata": {},
   "outputs": [
    {
     "data": {
      "text/html": [
       "<div>\n",
       "<style scoped>\n",
       "    .dataframe tbody tr th:only-of-type {\n",
       "        vertical-align: middle;\n",
       "    }\n",
       "\n",
       "    .dataframe tbody tr th {\n",
       "        vertical-align: top;\n",
       "    }\n",
       "\n",
       "    .dataframe thead th {\n",
       "        text-align: right;\n",
       "    }\n",
       "</style>\n",
       "<table border=\"1\" class=\"dataframe\">\n",
       "  <thead>\n",
       "    <tr style=\"text-align: right;\">\n",
       "      <th></th>\n",
       "      <th>Power</th>\n",
       "      <th>Speed</th>\n",
       "      <th>Avizo_Porosity_Mean</th>\n",
       "      <th>Avizo_Porosity_Std</th>\n",
       "      <th>Archimedes_porosity_Mean</th>\n",
       "      <th>Archimedes_porosity_Std</th>\n",
       "      <th>Pore_quantity_Sum</th>\n",
       "      <th>Diameter_Avizo_Mean</th>\n",
       "      <th>Diameter_Avizo_Std</th>\n",
       "      <th>Projected_Pore_area_Avg</th>\n",
       "      <th>...</th>\n",
       "      <th>Strength_Mean</th>\n",
       "      <th>Strength_Std</th>\n",
       "      <th>Yield_mean</th>\n",
       "      <th>Yield_Std</th>\n",
       "      <th>Uniform_Mean</th>\n",
       "      <th>Uniform_Std</th>\n",
       "      <th>Ductility_Mean</th>\n",
       "      <th>Ductility_Std</th>\n",
       "      <th>Youngs_Modulus_Mean</th>\n",
       "      <th>Youngs_Modulus_Std</th>\n",
       "    </tr>\n",
       "  </thead>\n",
       "  <tbody>\n",
       "    <tr>\n",
       "      <th>0</th>\n",
       "      <td>275</td>\n",
       "      <td>800</td>\n",
       "      <td>0.8774</td>\n",
       "      <td>0.0452</td>\n",
       "      <td>1.3189</td>\n",
       "      <td>0.8816</td>\n",
       "      <td>44006.0</td>\n",
       "      <td>50.0</td>\n",
       "      <td>15.0</td>\n",
       "      <td>3798.0</td>\n",
       "      <td>...</td>\n",
       "      <td>1021</td>\n",
       "      <td>6</td>\n",
       "      <td>942</td>\n",
       "      <td>10</td>\n",
       "      <td>6.15</td>\n",
       "      <td>0.08</td>\n",
       "      <td>10.70</td>\n",
       "      <td>0.76</td>\n",
       "      <td>112</td>\n",
       "      <td>5.35</td>\n",
       "    </tr>\n",
       "    <tr>\n",
       "      <th>1</th>\n",
       "      <td>275</td>\n",
       "      <td>760</td>\n",
       "      <td>1.9382</td>\n",
       "      <td>0.1495</td>\n",
       "      <td>1.8791</td>\n",
       "      <td>0.8775</td>\n",
       "      <td>57383.0</td>\n",
       "      <td>52.0</td>\n",
       "      <td>16.0</td>\n",
       "      <td>3885.0</td>\n",
       "      <td>...</td>\n",
       "      <td>1008</td>\n",
       "      <td>7</td>\n",
       "      <td>931</td>\n",
       "      <td>12</td>\n",
       "      <td>5.81</td>\n",
       "      <td>0.21</td>\n",
       "      <td>9.19</td>\n",
       "      <td>1.06</td>\n",
       "      <td>108</td>\n",
       "      <td>4.31</td>\n",
       "    </tr>\n",
       "    <tr>\n",
       "      <th>2</th>\n",
       "      <td>275</td>\n",
       "      <td>720</td>\n",
       "      <td>2.3027</td>\n",
       "      <td>0.5489</td>\n",
       "      <td>2.1131</td>\n",
       "      <td>0.8748</td>\n",
       "      <td>57874.0</td>\n",
       "      <td>52.0</td>\n",
       "      <td>17.0</td>\n",
       "      <td>4046.0</td>\n",
       "      <td>...</td>\n",
       "      <td>992</td>\n",
       "      <td>16</td>\n",
       "      <td>904</td>\n",
       "      <td>35</td>\n",
       "      <td>6.13</td>\n",
       "      <td>0.64</td>\n",
       "      <td>8.98</td>\n",
       "      <td>0.69</td>\n",
       "      <td>109</td>\n",
       "      <td>11.88</td>\n",
       "    </tr>\n",
       "    <tr>\n",
       "      <th>3</th>\n",
       "      <td>275</td>\n",
       "      <td>680</td>\n",
       "      <td>1.6876</td>\n",
       "      <td>0.1638</td>\n",
       "      <td>2.3318</td>\n",
       "      <td>0.8728</td>\n",
       "      <td>67526.0</td>\n",
       "      <td>52.0</td>\n",
       "      <td>18.0</td>\n",
       "      <td>4413.0</td>\n",
       "      <td>...</td>\n",
       "      <td>1009</td>\n",
       "      <td>20</td>\n",
       "      <td>929</td>\n",
       "      <td>21</td>\n",
       "      <td>5.52</td>\n",
       "      <td>0.17</td>\n",
       "      <td>8.50</td>\n",
       "      <td>1.33</td>\n",
       "      <td>108</td>\n",
       "      <td>4.15</td>\n",
       "    </tr>\n",
       "    <tr>\n",
       "      <th>4</th>\n",
       "      <td>275</td>\n",
       "      <td>640</td>\n",
       "      <td>2.0607</td>\n",
       "      <td>0.0928</td>\n",
       "      <td>2.5762</td>\n",
       "      <td>0.8700</td>\n",
       "      <td>93003.0</td>\n",
       "      <td>50.0</td>\n",
       "      <td>17.0</td>\n",
       "      <td>4040.0</td>\n",
       "      <td>...</td>\n",
       "      <td>995</td>\n",
       "      <td>27</td>\n",
       "      <td>914</td>\n",
       "      <td>35</td>\n",
       "      <td>5.37</td>\n",
       "      <td>0.38</td>\n",
       "      <td>7.23</td>\n",
       "      <td>1.22</td>\n",
       "      <td>113</td>\n",
       "      <td>11.39</td>\n",
       "    </tr>\n",
       "  </tbody>\n",
       "</table>\n",
       "<p>5 rows × 34 columns</p>\n",
       "</div>"
      ],
      "text/plain": [
       "   Power  Speed  Avizo_Porosity_Mean Avizo_Porosity_Std  \\\n",
       "0    275    800               0.8774             0.0452   \n",
       "1    275    760               1.9382             0.1495   \n",
       "2    275    720               2.3027             0.5489   \n",
       "3    275    680               1.6876             0.1638   \n",
       "4    275    640               2.0607             0.0928   \n",
       "\n",
       "   Archimedes_porosity_Mean  Archimedes_porosity_Std  Pore_quantity_Sum  \\\n",
       "0                    1.3189                   0.8816            44006.0   \n",
       "1                    1.8791                   0.8775            57383.0   \n",
       "2                    2.1131                   0.8748            57874.0   \n",
       "3                    2.3318                   0.8728            67526.0   \n",
       "4                    2.5762                   0.8700            93003.0   \n",
       "\n",
       "   Diameter_Avizo_Mean  Diameter_Avizo_Std  Projected_Pore_area_Avg  ...  \\\n",
       "0                 50.0                15.0                   3798.0  ...   \n",
       "1                 52.0                16.0                   3885.0  ...   \n",
       "2                 52.0                17.0                   4046.0  ...   \n",
       "3                 52.0                18.0                   4413.0  ...   \n",
       "4                 50.0                17.0                   4040.0  ...   \n",
       "\n",
       "   Strength_Mean  Strength_Std  Yield_mean  Yield_Std  Uniform_Mean  \\\n",
       "0           1021             6         942         10          6.15   \n",
       "1           1008             7         931         12          5.81   \n",
       "2            992            16         904         35          6.13   \n",
       "3           1009            20         929         21          5.52   \n",
       "4            995            27         914         35          5.37   \n",
       "\n",
       "   Uniform_Std  Ductility_Mean  Ductility_Std  Youngs_Modulus_Mean  \\\n",
       "0         0.08           10.70           0.76                  112   \n",
       "1         0.21            9.19           1.06                  108   \n",
       "2         0.64            8.98           0.69                  109   \n",
       "3         0.17            8.50           1.33                  108   \n",
       "4         0.38            7.23           1.22                  113   \n",
       "\n",
       "   Youngs_Modulus_Std  \n",
       "0                5.35  \n",
       "1                4.31  \n",
       "2               11.88  \n",
       "3                4.15  \n",
       "4               11.39  \n",
       "\n",
       "[5 rows x 34 columns]"
      ]
     },
     "execution_count": 5,
     "metadata": {},
     "output_type": "execute_result"
    }
   ],
   "source": [
    "import pandas as pd\n",
    "df = pd.read_csv(r\"\\\\129.217.152.140\\Team\\Helwing\\Lehre\\MaschineLerning_CT\\Luo_Q_2023.1_Vereinfacht.csv\", sep=';', decimal='.')\n",
    "df[:5]"
   ]
  },
  {
   "cell_type": "code",
   "execution_count": 6,
   "id": "57e2e052",
   "metadata": {},
   "outputs": [
    {
     "name": "stdout",
     "output_type": "stream",
     "text": [
      "Index(['Power', 'Speed', 'Avizo_Porosity_Mean', 'Avizo_Porosity_Std',\n",
      "       'Archimedes_porosity_Mean', 'Archimedes_porosity_Std',\n",
      "       'Pore_quantity_Sum', 'Diameter_Avizo_Mean', 'Diameter_Avizo_Std',\n",
      "       'Projected_Pore_area_Avg', 'Projected_Pore_area_Max',\n",
      "       'Projected_Pore_area_Sum', 'Sphericity_Avizo_Mean',\n",
      "       'Sphericity_Avizo_Std', 'Roughness_Avg_Mean', 'Roughness_Avg_Std',\n",
      "       'Roughness_RMS_Mean', 'Roughness_RMS_Std', 'Grain_diameter_Mean',\n",
      "       'Grain_diameter_Std', 'Grain_aspect_Mean', 'Grain_aspect_Std',\n",
      "       'Vicker_Mean', 'Vicker_Std', 'Strength_Mean', 'Strength_Std',\n",
      "       'Yield_mean', 'Yield_Std', 'Uniform_Mean', 'Uniform_Std',\n",
      "       'Ductility_Mean', 'Ductility_Std', 'Youngs_Modulus_Mean',\n",
      "       'Youngs_Modulus_Std'],\n",
      "      dtype='object')\n"
     ]
    },
    {
     "data": {
      "text/plain": [
       "<matplotlib.collections.PathCollection at 0x2106cd866b0>"
      ]
     },
     "execution_count": 6,
     "metadata": {},
     "output_type": "execute_result"
    },
    {
     "data": {
      "image/png": "[encoded data removed]",
      "text/plain": [
       "<Figure size 640x480 with 1 Axes>"
      ]
     },
     "metadata": {},
     "output_type": "display_data"
    }
   ],
   "source": [
    "print(df.keys())\n",
    "plt.scatter(df['Uniform_Mean'], df['Vicker_Mean'])"
   ]
  },
  {
   "cell_type": "code",
   "execution_count": 7,
   "id": "ac601234",
   "metadata": {},
   "outputs": [
    {
     "ename": "NameError",
     "evalue": "name 'data' is not defined",
     "output_type": "error",
     "traceback": [
      "\u001b[1;31m---------------------------------------------------------------------------\u001b[0m",
      "\u001b[1;31mNameError\u001b[0m                                 Traceback (most recent call last)",
      "Cell \u001b[1;32mIn[7], line 18\u001b[0m\n\u001b[0;32m     12\u001b[0m pore_parameter \u001b[38;5;241m=\u001b[39m [\u001b[38;5;124m'\u001b[39m\u001b[38;5;124mAvizo_Porosity_Mean\u001b[39m\u001b[38;5;124m'\u001b[39m, \u001b[38;5;124m'\u001b[39m\u001b[38;5;124mArchimedes_porosity_Mean\u001b[39m\u001b[38;5;124m'\u001b[39m, \u001b[38;5;124m'\u001b[39m\u001b[38;5;124mArchimedes_porosity_Std\u001b[39m\u001b[38;5;124m'\u001b[39m,\n\u001b[0;32m     13\u001b[0m                   \u001b[38;5;124m'\u001b[39m\u001b[38;5;124mPore_quantity_Sum\u001b[39m\u001b[38;5;124m'\u001b[39m, \u001b[38;5;124m'\u001b[39m\u001b[38;5;124mDiameter_Avizo_Mean\u001b[39m\u001b[38;5;124m'\u001b[39m, \u001b[38;5;124m'\u001b[39m\u001b[38;5;124mDiameter_Avizo_Std\u001b[39m\u001b[38;5;124m'\u001b[39m, \u001b[38;5;124m'\u001b[39m\u001b[38;5;124mProjected_Pore_area_Avg\u001b[39m\u001b[38;5;124m'\u001b[39m, \n\u001b[0;32m     14\u001b[0m                   \u001b[38;5;124m'\u001b[39m\u001b[38;5;124mProjected_Pore_area_Max\u001b[39m\u001b[38;5;124m'\u001b[39m, \u001b[38;5;124m'\u001b[39m\u001b[38;5;124mProjected_Pore_area_Sum\u001b[39m\u001b[38;5;124m'\u001b[39m, \u001b[38;5;124m'\u001b[39m\u001b[38;5;124mSphericity_Avizo_Mean\u001b[39m\u001b[38;5;124m'\u001b[39m, \u001b[38;5;124m'\u001b[39m\u001b[38;5;124mSphericity_Avizo_Std\u001b[39m\u001b[38;5;124m'\u001b[39m, \n\u001b[0;32m     15\u001b[0m                   \u001b[38;5;124m'\u001b[39m\u001b[38;5;124mRoughness_Avg_Mean\u001b[39m\u001b[38;5;124m'\u001b[39m, \u001b[38;5;124m'\u001b[39m\u001b[38;5;124mRoughness_Avg_Std\u001b[39m\u001b[38;5;124m'\u001b[39m, \u001b[38;5;124m'\u001b[39m\u001b[38;5;124mRoughness_RMS_Mean\u001b[39m\u001b[38;5;124m'\u001b[39m, \u001b[38;5;124m'\u001b[39m\u001b[38;5;124mRoughness_RMS_Std\u001b[39m\u001b[38;5;124m'\u001b[39m]\n\u001b[0;32m     17\u001b[0m \u001b[38;5;66;03m# separate train and test sets\u001b[39;00m\n\u001b[1;32m---> 18\u001b[0m x \u001b[38;5;241m=\u001b[39m \u001b[43mdata\u001b[49m\u001b[38;5;241m.\u001b[39mdrop(labels\u001b[38;5;241m=\u001b[39m(mechanical_parameter\u001b[38;5;241m+\u001b[39mpore_parameter), axis\u001b[38;5;241m=\u001b[39m\u001b[38;5;241m1\u001b[39m)\n\u001b[0;32m     19\u001b[0m y \u001b[38;5;241m=\u001b[39m data[\u001b[38;5;124m'\u001b[39m\u001b[38;5;124mStrength_Mean\u001b[39m\u001b[38;5;124m'\u001b[39m]\n\u001b[0;32m     21\u001b[0m x[:\u001b[38;5;241m5\u001b[39m]\n",
      "\u001b[1;31mNameError\u001b[0m: name 'data' is not defined"
     ]
    }
   ],
   "source": [
    "from sklearn.model_selection import train_test_split\n",
    "\n",
    "from sklearn.linear_model import LinearRegression\n",
    "from sklearn.model_selection import cross_val_predict\n",
    "\n",
    "mechanical_parameter = ['Strength_Mean', 'Strength_Std', 'Yield_mean', 'Yield_Std', 'Uniform_Mean', 'Uniform_Std',\n",
    "                        'Ductility_Mean', 'Ductility_Std', 'Youngs_Modulus_Mean', 'Youngs_Modulus_Std']\n",
    "\n",
    "std_parameter = ['Archimedes_porosity_Std','Diameter_Avizo_Std', 'Sphericity_Avizo_Std', \n",
    "                 'Roughness_Avg_Std', 'Roughness_RMS_Std', 'Grain_diameter_Std', 'Grain_aspect_Std', 'Vicker_Std']\n",
    "\n",
    "pore_parameter = ['Avizo_Porosity_Mean', 'Archimedes_porosity_Mean', 'Archimedes_porosity_Std',\n",
    "                  'Pore_quantity_Sum', 'Diameter_Avizo_Mean', 'Diameter_Avizo_Std', 'Projected_Pore_area_Avg', \n",
    "                  'Projected_Pore_area_Max', 'Projected_Pore_area_Sum', 'Sphericity_Avizo_Mean', 'Sphericity_Avizo_Std', \n",
    "                  'Roughness_Avg_Mean', 'Roughness_Avg_Std', 'Roughness_RMS_Mean', 'Roughness_RMS_Std']\n",
    "\n",
    "# separate train and test sets\n",
    "x = data.drop(labels=(mechanical_parameter+pore_parameter), axis=1)\n",
    "y = data['Strength_Mean']\n",
    "\n",
    "x[:5]"
   ]
  },
  {
   "cell_type": "code",
   "execution_count": 8,
   "id": "0c4976fa",
   "metadata": {},
   "outputs": [
    {
     "ename": "AttributeError",
     "evalue": "'numpy.ndarray' object has no attribute 'dropna'",
     "output_type": "error",
     "traceback": [
      "\u001b[1;31m---------------------------------------------------------------------------\u001b[0m",
      "\u001b[1;31mAttributeError\u001b[0m                            Traceback (most recent call last)",
      "Cell \u001b[1;32mIn[8], line 5\u001b[0m\n\u001b[0;32m      1\u001b[0m X_train, X_test, y_train, y_test \u001b[38;5;241m=\u001b[39m train_test_split(\n\u001b[0;32m      2\u001b[0m     x, y, test_size\u001b[38;5;241m=\u001b[39m\u001b[38;5;241m0.3\u001b[39m, random_state\u001b[38;5;241m=\u001b[39m\u001b[38;5;241m0\u001b[39m)\n\u001b[1;32m----> 5\u001b[0m X_train \u001b[38;5;241m=\u001b[39m \u001b[43mX_train\u001b[49m\u001b[38;5;241;43m.\u001b[39;49m\u001b[43mdropna\u001b[49m(axis\u001b[38;5;241m=\u001b[39m\u001b[38;5;241m1\u001b[39m)\n\u001b[0;32m      6\u001b[0m X_test \u001b[38;5;241m=\u001b[39m X_test\u001b[38;5;241m.\u001b[39mdropna(axis\u001b[38;5;241m=\u001b[39m\u001b[38;5;241m1\u001b[39m)\n\u001b[0;32m      8\u001b[0m scaler\u001b[38;5;241m.\u001b[39mfit(X_train)\n",
      "\u001b[1;31mAttributeError\u001b[0m: 'numpy.ndarray' object has no attribute 'dropna'"
     ]
    }
   ],
   "source": [
    "X_train, X_test, y_train, y_test = train_test_split(\n",
    "    x, y, test_size=0.3, random_state=0)\n",
    "\n",
    "\n",
    "X_train = X_train.dropna(axis=1)\n",
    "X_test = X_test.dropna(axis=1)\n",
    "\n",
    "scaler.fit(X_train)\n",
    "\n",
    "model = LinearRegression()\n",
    "model.fit(X_train, y_train)\n",
    "\n",
    "y_pred = cross_val_predict(model, X_train, y_train, cv=5)\n",
    "\n",
    "\n",
    "\n",
    "from sklearn.metrics import PredictionErrorDisplay\n",
    "PredictionErrorDisplay.from_predictions(\n",
    "    y_train,\n",
    "    y_pred=y_pred,\n",
    "    kind=\"actual_vs_predicted\",\n",
    "    subsample=100,\n",
    "    random_state=0,\n",
    ")"
   ]
  },
  {
   "cell_type": "code",
   "execution_count": null,
   "id": "c4069837",
   "metadata": {},
   "outputs": [],
   "source": [
    "y_pred.shape, y.shape"
   ]
  },
  {
   "cell_type": "code",
   "execution_count": null,
   "id": "e542c179",
   "metadata": {},
   "outputs": [],
   "source": [
    "from sklearn.model_selection import train_test_split\n",
    "\n",
    "from sklearn.feature_selection import SelectFromModel\n",
    "from sklearn.preprocessing import StandardScaler\n",
    "from sklearn.linear_model import LinearRegression\n",
    "from sklearn.feature_selection import SelectFromModel\n",
    "\n",
    "numerics = ['int16', 'int32', 'int64', 'float16', 'float32', 'float64']\n",
    "numerical_vars = list(df.select_dtypes(include=numerics).columns)\n",
    "data = df[numerical_vars]\n",
    "data.shape\n",
    "\n",
    "mechanical_parameter = ['Strength_Mean', 'Strength_Std', 'Yield_mean', 'Yield_Std', 'Uniform_Mean', 'Uniform_Std',\n",
    "                        'Ductility_Mean', 'Ductility_Std', 'Youngs_Modulus_Mean', 'Youngs_Modulus_Std']\n",
    "std_parameter = ['Avizo_Porosity_Std', 'Archimedes_porosity_Std','Diameter_Avizo_Std', 'Sphericity_Avizo_Std', \n",
    "                 'Roughness_Avg_Std', 'Roughness_RMS_Std', 'Grain_diameter_Std', 'Grain_aspect_Std', 'Vicker_Std']\n",
    "\n",
    "# separate train and test sets\n",
    "X_train, X_test, y_train, y_test = train_test_split(\n",
    "    data.drop(labels=(mechanical_parameter), axis=1),\n",
    "    data['Youngs_Modulus_Mean'],\n",
    "    test_size=0.3,\n",
    "    random_state=0)\n",
    "X_train = X_train.fillna(0)\n",
    "X_test = X_test.fillna(0)"
   ]
  },
  {
   "cell_type": "code",
   "execution_count": null,
   "id": "c9a7b5b2",
   "metadata": {},
   "outputs": [],
   "source": [
    "import matplotlib.pyplot as plt\n",
    "from sklearn.metrics import PredictionErrorDisplay\n",
    "\n",
    "fig, axs = plt.subplots(ncols=2, figsize=(8, 4))\n",
    "PredictionErrorDisplay.from_predictions(\n",
    "    y,\n",
    "    y_pred=y_pred,\n",
    "    kind=\"actual_vs_predicted\",\n",
    "    subsample=100,\n",
    "    ax=axs[0],\n",
    "    random_state=0,\n",
    ")\n",
    "axs[0].set_title(\"Actual vs. Predicted values\")\n",
    "PredictionErrorDisplay.from_predictions(\n",
    "    y,\n",
    "    y_pred=y_pred,\n",
    "    kind=\"residual_vs_predicted\",\n",
    "    subsample=100,\n",
    "    ax=axs[1],\n",
    "    random_state=0,\n",
    ")\n",
    "axs[1].set_title(\"Residuals vs. Predicted Values\")\n",
    "fig.suptitle(\"Plotting cross-validated predictions\")\n",
    "plt.tight_layout()\n",
    "plt.show()"
   ]
  }
 ],
 "metadata": {
  "kernelspec": {
   "display_name": "Python 3 (ipykernel)",
   "language": "python",
   "name": "python3"
  },
  "language_info": {
   "codemirror_mode": {
    "name": "ipython",
    "version": 3
   },
   "file_extension": ".py",
   "mimetype": "text/x-python",
   "name": "python",
   "nbconvert_exporter": "python",
   "pygments_lexer": "ipython3",
   "version": "3.10.11"
  }
 },
 "nbformat": 4,
 "nbformat_minor": 5
}
